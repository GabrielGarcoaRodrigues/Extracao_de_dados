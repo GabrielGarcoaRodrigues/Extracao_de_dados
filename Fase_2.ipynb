{
  "nbformat": 4,
  "nbformat_minor": 0,
  "metadata": {
    "colab": {
      "provenance": []
    },
    "kernelspec": {
      "name": "python3",
      "display_name": "Python 3"
    },
    "language_info": {
      "name": "python"
    }
  },
  "cells": [
    {
      "cell_type": "code",
      "execution_count": 2,
      "metadata": {
        "id": "IUJp7k-kNgCC"
      },
      "outputs": [],
      "source": [
        "import matplotlib.pyplot as plt\n",
        "import statistics\n",
        "import math\n",
        "\n",
        "arquivo = open(\"ArquivoDadosProjeto.csv\", \"r\")      #Abrindo o arquivo\n",
        "dados = []                                          #Criando uma lista\n",
        "\n",
        "for linha in arquivo:                               #Percorrendo o arquivo\n",
        "  if 'data' in linha:                               #Garantindo que não vai pegar a primeira linha do arquivo com o cabeçalho\n",
        "    pass\n",
        "  else:\n",
        "    valores = linha.split(';')                      #Separando as string pelo ';'\n",
        "    ultima = valores[7][:-1]                        #Removendo o '\\n' da ultima string \n",
        "    tupla = (valores[0], float(valores[1]),\n",
        "             float(valores[2]), float(valores[3]),\n",
        "             float(valores[4]), float(valores[5]), \n",
        "            float(valores[6]), float(ultima))       #Adicionando os valores em uma tupla\n",
        "    dados.append(tupla)                             #Adicionando as tuplas em uma lista"
      ]
    },
    {
      "cell_type": "code",
      "source": [
        "# a) Qual é o mês mais chuvoso em todo esse período? Isto é, o mês/ano com maior volume acumulado de chuva,\n",
        "# considerando todos os dados do arquivo? Utilize obrigatoriamente um dicionário.\n",
        "\n",
        "maior_precipitacao, soma, i = 0,0,0\n",
        "cont = ['01', '02', '03', '04', '05', '06', '07', '08', '09', '10', '11', '12']   # Criando uma lista para verificar os meses\n",
        "\n",
        "for data in dados:                                                                # Percorrendo os dados do arquivo\n",
        "  if cont[i] != data[0][3:5]:                                                     # Verifica se o cont é difetente do mês \n",
        "    if soma >= maior_precipitacao:                                                             # Verifica se a variável 'soma' é maior que a variável 'maior_precipitacao'\n",
        "      maior_precipitacao = soma                                                                # Atribui esse valor na variável 'maior_precipitacao'\n",
        "      maior_mes = cont[i]                                                         # Armazena o mês em que o cont está\n",
        "      if cont[i] == '12':                                                         # Verifica se o mês é igual a 12\n",
        "        maior_ano = int(data[0][6:]) - 1                                          # Caso seja, vai fazer um -1 no ano, pois a data ja vai estar em janeiro do ano seguinte\n",
        "      else:                                                                   \n",
        "        maior_ano = data[0][6:]                                                   # Caso contrário é só armazenar o valor do ano\n",
        "    soma = 0                                                                      # Atribui o 0 na soma, para poder verificar o próximo mês\n",
        "    if i == 11:                                                                   # Se 'i' for igual a 11 significa que está em dezembro, então tem que recomeçar a contagem\n",
        "      i = 0\n",
        "    else:\n",
        "      i = i + 1                                                                   # Caso não esteja em dezembro é só incrementar o 'i'\n",
        "\n",
        "  if cont[i] == data[0][3:5]:                                                     # Verificar se o 'cont' é igual ao mês\n",
        "    soma = soma + data[1]                                                         # Caso seja, soma a precipitação dos dias\n",
        "\n",
        "dic = {}\n",
        "dic[\"data\"] = f\"{maior_mes}/{maior_ano}\"                                          # O 'data' do dicionário vai receber a data com a maior precipitação\n",
        "dic[\"precipitaçao\"] = f\"{maior_precipitacao:.2f}\"                                              # O 'precipitação' do dicionário vai receber a quantidade de precipitação no mês\n",
        "print(f'Data: {dic[\"data\"]} com {dic[\"precipitaçao\"]} de precipitação')           # Print da resposta com o dicionário"
      ],
      "metadata": {
        "colab": {
          "base_uri": "https://localhost:8080/"
        },
        "id": "dxlyfGKNM8BU",
        "outputId": "6a41ed2d-ff0c-46e1-fbcf-4d0639b19e3b"
      },
      "execution_count": 3,
      "outputs": [
        {
          "output_type": "stream",
          "name": "stdout",
          "text": [
            "Data: 06/1984 com 340.10 de precipitação\n"
          ]
        }
      ]
    },
    {
      "cell_type": "code",
      "source": [
        "# b) Qual a média e a moda da temperatura mínima, umidade do ar e velocidade do vento no mês\n",
        "#  de agosto (auge do inverno) nos últimos 10 anos (2006 a 2016)? Escreva as informações pedidas\n",
        "#  para cada mês de agosto (agosto/2006, agosto/2007, ...agosto/2016) e, de forma geral, que engloba\n",
        "#  todos os meses de agosto desse período de 10 anos.\n",
        "\n",
        "anos = ['2006', '2007', '2008', '2009', '2010', '2011', '2012', '2013', '2014', '2015', '2016']  # Lista para verificar os anos\n",
        "temperatura_total = []\n",
        "umidade_total = []\n",
        "velocidade_vento_total = []\n",
        "media_temperatura_mensal = []\n",
        "media_umidade_mensal = []\n",
        "media_velocidade_vento_mensal = []\n",
        "\n",
        "def calculos_mensais(data):                                                                       # Função para calcular as médias e modas de agosto de cada ano\n",
        "  media_temperatura_mensal.append(data[3])                                                        # Adiciona a temperatura mínima na lista\n",
        "  media_umidade_mensal.append(data[6])                                                            # Adiciona a umidade na lista\n",
        "  media_velocidade_vento_mensal.append(data[7])                                                   # Adiciona a velocidade do vento na lista\n",
        "\n",
        "  if data[0][:2] == '31':                                                                         # Verifica quando está no último dia de agosto\n",
        "    temp_mensal = sum(media_temperatura_mensal) / 31                                              # Soma todas as temperaturas do mês e divide pela quantidade de dias\n",
        "    print(f'{data[0][3:]}:')                                                                      \n",
        "    print(f'Média temperatura mínima: {temp_mensal:.2f}')                                             \n",
        "    print(f'Moda da temperatura mínima: {statistics.mode(media_temperatura_mensal):.2f}')         # Usa a biblioteca statistics para calcular a moda da lista\n",
        "    media_temperatura_mensal.clear()                                                              # Limpa a lista para armazenar os valores do próximo ano\n",
        "\n",
        "    umidade_mensal = sum(media_umidade_mensal) / 31                                               # Soma todas os valores de umidade e divide pelos dias de agosto\n",
        "    print(f'Média umidade do ar: {umidade_mensal:.2f}') \n",
        "    print(f'Moda da umidade do ar: {statistics.mode(media_umidade_mensal):.2f}')                  # Usa a biblioteca statistics para calcular a moda da lista\n",
        "    media_umidade_mensal.clear()                                                                  # Limpa a lista para armazenar os valores do próximo ano\n",
        "\n",
        "    velocidade_mensal = sum(media_velocidade_vento_mensal) / 31                                   # Soma todas os valores da velocidade do vento e divide pelos dias de agosto\n",
        "    print(f'Média velocidade do vento: {velocidade_mensal:.2f}')\n",
        "    print(f'Moda da velocidade do vento: {statistics.mode(media_velocidade_vento_mensal):.2f}')   # Usa a biblioteca statistics para calcular a moda da lista\n",
        "    media_velocidade_vento_mensal.clear()                                                         # Limpa a lista para armazenar os valores do próximo ano\n",
        "    print('\\n')\n",
        "    \n",
        "\n",
        "\n",
        "def calculos_totais(data):                                                                        # Função para calcular a média e moda dos 10 anos \n",
        "  temperatura_total.append(data[3])                                                               # Adiciona a temperatura mínima na lista\n",
        "  umidade_total.append(data[6])                                                                   # Adiciona a umidade na lista\n",
        "  velocidade_vento_total.append(data[7])                                                          # Adiciona a velocidade do vento na lista\n",
        "\n",
        "  if data[0] == '31/08/2015':                                                                     # Verifica se está no último dia de agosto do último ano (ja que 2016 nao tem o mês de agosto)\n",
        "    print('-' * 50)                                                                         \n",
        "    print('Nos ultimos 10 anos:')                       \n",
        "    temperatura_minima_media = sum(temperatura_total) / 310                                       # Soma todas as temperaturas e divide por 31 dias * 10 anos\n",
        "    print(f'Média da temperatura mínima: {temperatura_minima_media:.2f}')               \n",
        "    print(f'Moda da temperatura mínima: {statistics.mode(temperatura_total):.2f}')                # Usa a biblioteca statistics para calcular a moda da lista\n",
        "\n",
        "    umidade_ar_media = sum(umidade_total) / 310                                                   # Soma todas as umidades e divide por 31 dias * 10 anos\n",
        "    print(f'Média da umidade do ar: {umidade_ar_media:.2f}')\n",
        "    print(f'Moda da umidade do ar: {statistics.mode(umidade_total):.2f}')                         # Usa a biblioteca statistics para calcular a moda da lista\n",
        "\n",
        "    velocidade_vento_media = sum(velocidade_vento_total) / 310                                    # Soma todas as velocidades e divide por 31 dias * 10 anos\n",
        "    print(f'Média da velocidade do vento: {velocidade_vento_media:.2f}')\n",
        "    print(f'Moda da velocidade do vento: {statistics.mode(velocidade_vento_total):.2f}')          # Usa a biblioteca statistics para calcular a moda da lista\n",
        "\n",
        "for data in dados:                                                                                # Percorre todos os dados\n",
        "  if data[0][6:] in anos:                                                                         # Verifica se está nos 10 últimos anos\n",
        "    if data[0][3:5] == '08':                                                                      # Verifica se está em agosto\n",
        "      calculos_mensais(data)                                                                      # Chama a função\n",
        "      calculos_totais(data)                                                                       # Chama a função\n",
        "      "
      ],
      "metadata": {
        "id": "iAhk57HNNG4R",
        "colab": {
          "base_uri": "https://localhost:8080/"
        },
        "outputId": "286532d5-302c-4169-b597-d6d3619067ec"
      },
      "execution_count": 8,
      "outputs": [
        {
          "output_type": "stream",
          "name": "stdout",
          "text": [
            "08/2006:\n",
            "Média temperatura mínima: 11.01\n",
            "Moda da temperatura mínima: 14.40\n",
            "Média umidade do ar: 77.58\n",
            "Moda da umidade do ar: 80.00\n",
            "Média velocidade do vento: 1.47\n",
            "Moda da velocidade do vento: 0.47\n",
            "\n",
            "\n",
            "08/2007:\n",
            "Média temperatura mínima: 10.29\n",
            "Moda da temperatura mínima: 12.60\n",
            "Média umidade do ar: 82.13\n",
            "Moda da umidade do ar: 90.00\n",
            "Média velocidade do vento: 1.95\n",
            "Moda da velocidade do vento: 1.53\n",
            "\n",
            "\n",
            "08/2008:\n",
            "Média temperatura mínima: 11.44\n",
            "Moda da temperatura mínima: 13.20\n",
            "Média umidade do ar: 80.23\n",
            "Moda da umidade do ar: 78.00\n",
            "Média velocidade do vento: 1.48\n",
            "Moda da velocidade do vento: 2.00\n",
            "\n",
            "\n",
            "08/2009:\n",
            "Média temperatura mínima: 11.83\n",
            "Moda da temperatura mínima: 12.80\n",
            "Média umidade do ar: 76.81\n",
            "Moda da umidade do ar: 87.50\n",
            "Média velocidade do vento: 1.89\n",
            "Moda da velocidade do vento: 1.33\n",
            "\n",
            "\n",
            "08/2010:\n",
            "Média temperatura mínima: 10.95\n",
            "Moda da temperatura mínima: 9.40\n",
            "Média umidade do ar: 80.70\n",
            "Moda da umidade do ar: 79.25\n",
            "Média velocidade do vento: 1.49\n",
            "Moda da velocidade do vento: 1.27\n",
            "\n",
            "\n",
            "08/2011:\n",
            "Média temperatura mínima: 11.41\n",
            "Moda da temperatura mínima: 12.40\n",
            "Média umidade do ar: 79.93\n",
            "Moda da umidade do ar: 71.00\n",
            "Média velocidade do vento: 3.77\n",
            "Moda da velocidade do vento: 5.83\n",
            "\n",
            "\n",
            "08/2012:\n",
            "Média temperatura mínima: 14.56\n",
            "Moda da temperatura mínima: 17.60\n",
            "Média umidade do ar: 74.75\n",
            "Moda da umidade do ar: 72.00\n",
            "Média velocidade do vento: 2.09\n",
            "Moda da velocidade do vento: 1.83\n",
            "\n",
            "\n",
            "08/2013:\n",
            "Média temperatura mínima: 9.76\n",
            "Moda da temperatura mínima: 9.60\n",
            "Média umidade do ar: 82.42\n",
            "Moda da umidade do ar: 82.50\n",
            "Média velocidade do vento: 2.11\n",
            "Moda da velocidade do vento: 2.00\n",
            "\n",
            "\n",
            "08/2014:\n",
            "Média temperatura mínima: 11.51\n",
            "Moda da temperatura mínima: 6.70\n",
            "Média umidade do ar: 78.10\n",
            "Moda da umidade do ar: 87.25\n",
            "Média velocidade do vento: 2.23\n",
            "Moda da velocidade do vento: 3.83\n",
            "\n",
            "\n",
            "08/2015:\n",
            "Média temperatura mínima: 16.22\n",
            "Moda da temperatura mínima: 15.90\n",
            "Média umidade do ar: 74.56\n",
            "Moda da umidade do ar: 62.75\n",
            "Média velocidade do vento: 1.83\n",
            "Moda da velocidade do vento: 1.30\n",
            "\n",
            "\n",
            "--------------------------------------------------\n",
            "Nos ultimos 10 anos:\n",
            "Média da temperatura mínima: 11.90\n",
            "Moda da temperatura mínima: 12.40\n",
            "Média da umidade do ar: 78.72\n",
            "Moda da umidade do ar: 76.75\n",
            "Média da velocidade do vento: 2.03\n",
            "Moda da velocidade do vento: 2.00\n"
          ]
        }
      ]
    },
    {
      "cell_type": "code",
      "source": [
        "# c) Qual é a década mais chuvosa, isto é, a que possui maior média de chuva acumulada por ano?\n",
        "#  Para calcular isso, divida o volume de chuva da década pela quantidade de anos (lembre-se que a\n",
        "#  última década só tem 6 anos - 2011 a 2016). Para realizar esse processamento, use as estruturas\n",
        "#  de dados que você julgar necessário, tanto em tipo quanto em quantidade.\n",
        "#   Década 1: 1961 - 1970\n",
        "#   Década 2: 1971 - 1980\n",
        "#   Década 3: 1981 – 1990\n",
        "#   ...\n",
        "quant_chuva_d1, quant_chuva_d2, quant_chuva_d3, quant_chuva_d4, quant_chuva_d5, quant_chuva_d6 = 0,0,0,0,0,0  # Variáveis para armazenar as quantidades de chuva\n",
        "\n",
        "decada1 = ['1961', '1962', '1963', '1964', '1965', '1966', '1967', '1968', '1969', '1970']   # Criando listas para cada década\n",
        "decada2 = ['1971', '1972', '1973', '1974', '1975', '1976', '1977', '1978', '1979', '1980']\n",
        "decada3 = ['1981', '1982', '1983', '1984', '1985', '1986', '1987', '1988', '1989', '1990']\n",
        "decada4 = ['1991', '1992', '1993', '1994', '1995', '1996', '1997', '1998', '1999', '2000']\n",
        "decada5 = ['2001', '2002', '2003', '2004', '2005', '2006', '2007', '2008', '2009', '2010']\n",
        "decada6 = ['2011', '2012', '2013', '2014', '2015', '2016']\n",
        "\n",
        "for data in dados:                                                                            # Percorrendo os dados\n",
        "  if data[0][6:] in decada1:                                                                  # Verifica se o ano da linha está na década 1\n",
        "    quant_chuva_d1 += data[1]                                                                 # Soma a precipitação\n",
        "  elif data[0][6:] in decada2:                                                                # ... \n",
        "    quant_chuva_d2 += data[1]                                                                 # ... \n",
        "  elif data[0][6:] in decada3:                                                                # ... \n",
        "    quant_chuva_d3 += data[1]                                                                 # ... \n",
        "  elif data[0][6:] in decada4:                                                                # ... \n",
        "    quant_chuva_d4 += data[1]                                                                 # ... \n",
        "  elif data[0][6:] in decada5:                                                                # ... \n",
        "    quant_chuva_d5 += data[1]                                                                 # ... \n",
        "  else:                                                                                       # ... \n",
        "    quant_chuva_d6 += data[1]                                                                 # ... \n",
        "\n",
        "media_d1 = quant_chuva_d1 / 10                                                                # Calcula a média de cada década\n",
        "media_d2 = quant_chuva_d2 / 10                                                                # ...\n",
        "media_d3 = quant_chuva_d3 / 10                                                                # ...\n",
        "media_d4 = quant_chuva_d4 / 10                                                                # ...\n",
        "media_d5 = quant_chuva_d5 / 10                                                                # ...\n",
        "media_d6 = quant_chuva_d6 / 6                                                                 # ...\n",
        "\n",
        "maior = media_d1        \n",
        "decada = 'Década 1'\n",
        "if media_d2 >= maior:                                                                         # Verifica qual média é a maior, e atribui ela na variável 'maior'\n",
        "  maior = media_d2                                                                            # ...\n",
        "  decada = 'Década 2'                                                                         # Atribui a década com o maior volume de chuva\n",
        "if media_d3 >= maior:                                                                         # ...\n",
        "  maior = media_d3                                                                            # ...\n",
        "  decada = 'Década 3'                                                                         # ...\n",
        "if media_d4 >= maior:                                                                         # ...\n",
        "  maior = media_d4                                                                            # ...\n",
        "  decada = 'Década 4'                                                                         # ...\n",
        "if media_d5 >= maior:                                                                         # ...\n",
        "  maior = media_d5                                                                            # ...\n",
        "  decada = 'Década 5'                                                                         # ...\n",
        "if media_d6 >= maior:                                                                         # ...\n",
        "  maior = media_d6                                                                            # ...\n",
        "  decada = 'Década 6'                                                                         # ...\n",
        "\n",
        "\n",
        "print(f'A maior quantidade de chuva foi na {decada} com: {maior:.2f}')\n"
      ],
      "metadata": {
        "id": "wkxXle2TNMJK",
        "colab": {
          "base_uri": "https://localhost:8080/"
        },
        "outputId": "a2c7883f-07f3-4617-9f88-2bee620d18c4"
      },
      "execution_count": 10,
      "outputs": [
        {
          "output_type": "stream",
          "name": "stdout",
          "text": [
            "A maior quantidade de chuva foi na Década 4 com: 1446.00\n"
          ]
        }
      ]
    },
    {
      "cell_type": "code",
      "source": [
        "#  d) Além disso, você deve gerar um gráfico de barras com as médias acumuladas por década.\n",
        "#   Não esqueça de rotular os eixos e usar legendas para deixar o seu gráfico informativo e bem elaborado.\n",
        "\n",
        "decadas = ['1961-1970', '1971-1980', '1981-1990', '1991-2000', '2001-2010', '2011-2016']   # Colocando valores para o eixo X\n",
        "chuvas = [media_d1, media_d2, media_d3, media_d4, media_d5, media_d6]                      # Colocando valores para o eixo Y\n",
        "plt.ylabel('Média de chuva acumulada')                                                     # Adicionando um nome para o eixo Y\n",
        "plt.xlabel('Décadas (anos)')                                                               # Adicionando um nome para o eixo X\n",
        "plt.title('Médias de chuva acumulada X Décadas')                                           # Colocando um título no gráfico\n",
        "plt.figure(figsize=(12,7))                                                                 # Definindo o tamanho da figura\n",
        "plt.bar(decadas, chuvas)                                                                   # Plotando o gráfico de barra\n",
        "\n",
        "\n",
        "arquivo.close()"
      ],
      "metadata": {
        "id": "5reejON9NTtR",
        "colab": {
          "base_uri": "https://localhost:8080/",
          "height": 706
        },
        "outputId": "db92e338-bedb-4c5e-f5df-b1927517f970"
      },
      "execution_count": 13,
      "outputs": [
        {
          "output_type": "display_data",
          "data": {
            "text/plain": [
              "<Figure size 432x288 with 1 Axes>"
            ],
            "image/png": "[encoded data removed]"
          },
          "metadata": {
            "needs_background": "light"
          }
        },
        {
          "output_type": "display_data",
          "data": {
            "text/plain": [
              "<Figure size 864x504 with 1 Axes>"
            ],
            "image/png": "[encoded data removed]"
          },
          "metadata": {
            "needs_background": "light"
          }
        }
      ]
    }
  ]
}